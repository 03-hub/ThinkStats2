{
  "nbformat": 4,
  "nbformat_minor": 0,
  "metadata": {
    "colab": {
      "name": "Copy of SemEvaltask1-submission-LSTM.ipynb",
      "provenance": [],
      "collapsed_sections": [],
      "authorship_tag": "ABX9TyPib54giK0whkFiTukTqds8",
      "include_colab_link": true
    },
    "kernelspec": {
      "name": "python3",
      "display_name": "Python 3"
    },
    "language_info": {
      "name": "python"
    }
  },
  "cells": [
    {
      "cell_type": "markdown",
      "metadata": {
        "id": "view-in-github",
        "colab_type": "text"
      },
      "source": [
        "<a href=\"https://colab.research.google.com/github/03-hub/ThinkStats2/blob/master/Copy_of_SemEvaltask1_submission_LSTM.ipynb\" target=\"_parent\"><img src=\"https://colab.research.google.com/assets/colab-badge.svg\" alt=\"Open In Colab\"/></a>"
      ]
    },
    {
      "cell_type": "markdown",
      "source": [
        "PREDICTING CONTRIBUTION SENTENCES USING LSTM MODEL"
      ],
      "metadata": {
        "id": "A8FoUyLcuEef"
      }
    },
    {
      "cell_type": "code",
      "source": [
        ""
      ],
      "metadata": {
        "id": "qc-REv0xpC_P"
      },
      "execution_count": null,
      "outputs": []
    },
    {
      "cell_type": "code",
      "execution_count": null,
      "metadata": {
        "id": "4cr8dvvu41XU",
        "colab": {
          "base_uri": "https://localhost:8080/"
        },
        "outputId": "b0da5b04-7e08-409f-f762-5df382c49e4d",
        "cellView": "code"
      },
      "outputs": [
        {
          "output_type": "stream",
          "name": "stdout",
          "text": [
            "Mounted at /content/drive\n"
          ]
        }
      ],
      "source": [
        "\n",
        "from google.colab import drive\n",
        "drive.mount('/content/drive',force_remount=True)  \n",
        "#(function) mount: (mountpoint, force_remount=False, timeout_ms=120000) -> None\n",
        "\n",
        "#Mount your Google Drive at the specified mountpoint path."
      ]
    },
    {
      "cell_type": "code",
      "source": [
        "!git clone https://github.com/ncg-task/training-data.git \"/content/train\"\n"
      ],
      "metadata": {
        "colab": {
          "base_uri": "https://localhost:8080/"
        },
        "id": "XnQgGSKUPYZS",
        "outputId": "8da8ee52-566e-47c0-928e-9a255801d375"
      },
      "execution_count": null,
      "outputs": [
        {
          "output_type": "stream",
          "name": "stdout",
          "text": [
            "Cloning into '/content/train'...\n",
            "remote: Enumerating objects: 6864, done.\u001b[K\n",
            "remote: Counting objects: 100% (3083/3083), done.\u001b[K\n",
            "remote: Compressing objects: 100% (2728/2728), done.\u001b[K\n",
            "remote: Total 6864 (delta 567), reused 2504 (delta 279), pack-reused 3781\u001b[K\n",
            "Receiving objects: 100% (6864/6864), 157.36 MiB | 29.42 MiB/s, done.\n",
            "Resolving deltas: 100% (660/660), done.\n",
            "Checking out files: 100% (3286/3286), done.\n"
          ]
        }
      ]
    },
    {
      "cell_type": "markdown",
      "source": [
        "IMPORTING REQUIRED LIBRARIES"
      ],
      "metadata": {
        "id": "hb0J2g_a8BnV"
      }
    },
    {
      "cell_type": "code",
      "source": [
        "import os\n",
        "import glob\n",
        "import tensorflow as tf\n",
        "from sklearn.model_selection import train_test_split\n",
        "!pip install transformers\n",
        "from transformers import BertConfig, BertTokenizerFast, TFBertForSequenceClassification\n",
        "EPOCHS = 3#I choosed 3 epochs i.e;my training dataset passes through lstm model 3 times\n",
        "BATCH_SIZE = 8#I use 8 training examples in one iteration\n"
      ],
      "metadata": {
        "id": "B4IYgBi-8BzF",
        "colab": {
          "base_uri": "https://localhost:8080/"
        },
        "outputId": "edf839be-ae57-447c-9ad9-ad6e1fa2ec89"
      },
      "execution_count": null,
      "outputs": [
        {
          "output_type": "stream",
          "name": "stdout",
          "text": [
            "Collecting transformers\n",
            "  Downloading transformers-4.19.1-py3-none-any.whl (4.2 MB)\n",
            "\u001b[K     |████████████████████████████████| 4.2 MB 11.7 MB/s \n",
            "\u001b[?25hRequirement already satisfied: filelock in /usr/local/lib/python3.7/dist-packages (from transformers) (3.6.0)\n",
            "Collecting huggingface-hub<1.0,>=0.1.0\n",
            "  Downloading huggingface_hub-0.6.0-py3-none-any.whl (84 kB)\n",
            "\u001b[K     |████████████████████████████████| 84 kB 2.6 MB/s \n",
            "\u001b[?25hRequirement already satisfied: tqdm>=4.27 in /usr/local/lib/python3.7/dist-packages (from transformers) (4.64.0)\n",
            "Requirement already satisfied: regex!=2019.12.17 in /usr/local/lib/python3.7/dist-packages (from transformers) (2019.12.20)\n",
            "Collecting tokenizers!=0.11.3,<0.13,>=0.11.1\n",
            "  Downloading tokenizers-0.12.1-cp37-cp37m-manylinux_2_12_x86_64.manylinux2010_x86_64.whl (6.6 MB)\n",
            "\u001b[K     |████████████████████████████████| 6.6 MB 85.7 MB/s \n",
            "\u001b[?25hCollecting pyyaml>=5.1\n",
            "  Downloading PyYAML-6.0-cp37-cp37m-manylinux_2_5_x86_64.manylinux1_x86_64.manylinux_2_12_x86_64.manylinux2010_x86_64.whl (596 kB)\n",
            "\u001b[K     |████████████████████████████████| 596 kB 63.9 MB/s \n",
            "\u001b[?25hRequirement already satisfied: importlib-metadata in /usr/local/lib/python3.7/dist-packages (from transformers) (4.11.3)\n",
            "Requirement already satisfied: requests in /usr/local/lib/python3.7/dist-packages (from transformers) (2.23.0)\n",
            "Requirement already satisfied: numpy>=1.17 in /usr/local/lib/python3.7/dist-packages (from transformers) (1.21.6)\n",
            "Requirement already satisfied: packaging>=20.0 in /usr/local/lib/python3.7/dist-packages (from transformers) (21.3)\n",
            "Requirement already satisfied: typing-extensions>=3.7.4.3 in /usr/local/lib/python3.7/dist-packages (from huggingface-hub<1.0,>=0.1.0->transformers) (4.2.0)\n",
            "Requirement already satisfied: pyparsing!=3.0.5,>=2.0.2 in /usr/local/lib/python3.7/dist-packages (from packaging>=20.0->transformers) (3.0.8)\n",
            "Requirement already satisfied: zipp>=0.5 in /usr/local/lib/python3.7/dist-packages (from importlib-metadata->transformers) (3.8.0)\n",
            "Requirement already satisfied: idna<3,>=2.5 in /usr/local/lib/python3.7/dist-packages (from requests->transformers) (2.10)\n",
            "Requirement already satisfied: certifi>=2017.4.17 in /usr/local/lib/python3.7/dist-packages (from requests->transformers) (2021.10.8)\n",
            "Requirement already satisfied: urllib3!=1.25.0,!=1.25.1,<1.26,>=1.21.1 in /usr/local/lib/python3.7/dist-packages (from requests->transformers) (1.24.3)\n",
            "Requirement already satisfied: chardet<4,>=3.0.2 in /usr/local/lib/python3.7/dist-packages (from requests->transformers) (3.0.4)\n",
            "Installing collected packages: pyyaml, tokenizers, huggingface-hub, transformers\n",
            "  Attempting uninstall: pyyaml\n",
            "    Found existing installation: PyYAML 3.13\n",
            "    Uninstalling PyYAML-3.13:\n",
            "      Successfully uninstalled PyYAML-3.13\n",
            "Successfully installed huggingface-hub-0.6.0 pyyaml-6.0 tokenizers-0.12.1 transformers-4.19.1\n"
          ]
        }
      ]
    },
    {
      "cell_type": "code",
      "source": [
        "def Articlesandcontributions(path):\n",
        "    articles = []\n",
        "    contributions = []\n",
        "\n",
        "    for task_name in os.listdir(path):  #/training-data\n",
        "        if task_name != 'README.md' and task_name != '.git':\n",
        "          article_category = os.path.join(path, task_name)  # ./training-data/natural_language_inference\n",
        "\n",
        "          for folder_name in sorted(os.listdir(article_category)):\n",
        "            #os.listdir(path=None)\n",
        "\n",
        "#             Return a list containing the names of the files in the directory.\n",
        "\n",
        "#             path can be specified as either str, bytes, or a path-like object.  If path is bytes,\n",
        "#             the filenames returned will also be bytes; in all other circumstances\n",
        "#             the filenames returned will be str.\n",
        "#             If path is None, uses the path='.'.\n",
        "              article_index = os.path.join(article_category, folder_name)  # ./datasets/training-data/natural_language_inference/0\n",
        "#             os.path.join(a,*p)\n",
        "\n",
        "#              Join two or more pathname components, inserting '/' as needed.\n",
        "#              If any component is an absolute path, all previous path components\n",
        "#              will be discarded.  An empty last part will result in a path that\n",
        "#              ends with a separator.\n",
        "              with open(glob.glob(os.path.join(article_index, '*-Stanza-out.txt'))[0], encoding='utf-8') as f:#I used glob to retrieve files with matching pattern\n",
        "                  article = f.read()                                                                           #* wild card matches the files with stanze out.txt\n",
        "                  articles.append(article.lower())\n",
        "                \n",
        "              with open(os.path.join(article_index, 'sentences.txt'), encoding='utf-8') as f:\n",
        "                  contribution = []\n",
        "                  for line in f.readlines():\n",
        "                      article_contribution = int(line.strip())\n",
        "                      contribution.append(article_contribution)\n",
        "                  contributions.append(contribution) #contribution=[99,10.....]\n",
        "          #     break\n",
        "          # break\n",
        "    return articles, contributions"
      ],
      "metadata": {
        "id": "qKWkjRvL-Xjx"
      },
      "execution_count": null,
      "outputs": []
    },
    {
      "cell_type": "code",
      "source": [
        "def SentenceAndLables(articles, contributions):\n",
        "    sentences = []\n",
        "    labels = []\n",
        "    for i, article in enumerate(articles):\n",
        "#enumerate(*args, **kwargs)\n",
        "\n",
        "# Return an enumerate object.\n",
        "\n",
        "# iterable\n",
        "#   an object supporting iteration\n",
        "\n",
        "#The enumerate object yields pairs containing a count (from start, which\n",
        "#defaults to zero) and a value yielded by the iterable argument.\n",
        "\n",
        "#enumerate is useful for obtaining an indexed list:\n",
        "#   (0, seq[0]), (1, seq[1]), (2, seq[2]), ...\n",
        "\n",
        "        contribution = contributions[i]\n",
        "\n",
        "        sents = article.split('\\n')[0:-1]\n",
        "\n",
        "        for j, sent in enumerate(sents):\n",
        "            sentences.append(sent)\n",
        "            if (j + 1) in contribution:\n",
        "                labels.append(1)\n",
        "            else:\n",
        "                labels.append(0)\n",
        "    return sentences, labels\n"
      ],
      "metadata": {
        "id": "4Mg55w3RJCC1"
      },
      "execution_count": null,
      "outputs": []
    },
    {
      "cell_type": "code",
      "source": [
        "train_input_dir='/content/train'"
      ],
      "metadata": {
        "id": "KjA_qJexQ_vh"
      },
      "execution_count": null,
      "outputs": []
    },
    {
      "cell_type": "code",
      "source": [
        "\n",
        "train_articles, train_contributions = Articlesandcontributions(train_input_dir)\n",
        "\n",
        "train_sentences, train_labels = SentenceAndLables(train_articles, train_contributions)\n",
        "\n",
        "train_sentences, test_sentences, train_labels, test_labels = train_test_split(train_sentences, train_labels, test_size=.2)\n",
        "#def train_test_split(*arrays, test_size=None, train_size=None, random_state=None, shuffle=True, stratify=None)\n",
        "\n",
        "#Split arrays or matrices into random train and test subsets.\n",
        "\n",
        "#list: train_sentences\n",
        "#(44160 items) ['experiments show an ...', 'this assumption may.]\n",
        "\n",
        "#"
      ],
      "metadata": {
        "id": "5SlgejiqM2Mg"
      },
      "execution_count": null,
      "outputs": []
    },
    {
      "cell_type": "code",
      "source": [
        "import pandas as pd\n",
        "import numpy as np\n",
        "import matplotlib.pyplot as plt\n",
        "import seaborn as sns\n",
        "from sklearn.model_selection import train_test_split\n",
        "from sklearn.preprocessing import LabelEncoder\n",
        "from keras.models import Model\n",
        "from keras.layers import LSTM, Activation, Dense, Dropout, Input, Embedding\n",
        "from tensorflow.keras.optimizers import Adam\n",
        "from keras.preprocessing.text import Tokenizer\n",
        "from keras.preprocessing import sequence\n",
        "from tensorflow.keras.utils import to_categorical\n",
        "from keras.callbacks import EarlyStopping\n",
        "%matplotlib inline"
      ],
      "metadata": {
        "id": "ZpawpM343Jpf"
      },
      "execution_count": null,
      "outputs": []
    },
    {
      "cell_type": "markdown",
      "source": [
        "PREPROCESSING"
      ],
      "metadata": {
        "id": "eXH1atyfAlqy"
      }
    },
    {
      "cell_type": "code",
      "source": [
        "max_words = 1000\n",
        "max_len = 150\n",
        "tok = Tokenizer(num_words=max_words)\n",
        "#def __init__(num_words=None, filters='!\"#$%&()*+,-./:;<=>?@[\\\\]^_`{|}~\\t\\n', lower=True, split=' ', char_level=False, oov_token=None, document_count=0, **kwargs)\n",
        "\n",
        "#Text tokenization utility class.\n",
        "#This class allows to vectorize a text corpus, by turning each\n",
        "#text into either a sequence of integers (each integer being the index\n",
        "#of a token in a dictionary) or into a vector where the coefficient\n",
        "#for each token could be binary, based on word count, based on tf-idf..\n",
        "\n",
        "tok.fit_on_texts(train_sentences)\n",
        "#(method) fit_on_texts: (texts) -> None\n",
        "#Updates internal vocabulary based on a list of texts.\n",
        "\n",
        "sequences = tok.texts_to_sequences(train_sentences)\n",
        "#(method) texts_to_sequences: (texts) -> list[list]\n",
        "#Transforms each text in texts to a sequence of integers.\n",
        "#Only top num_words-1 most frequent words will be taken into account.\n",
        "#Only words known by the tokenizer will be taken into account.\n",
        "\n",
        "sequences_matrix = sequence.pad_sequences(sequences,maxlen=max_len)\n",
        "#def pad_sequences(sequences, maxlen=None, dtype='int32', padding='pre', truncating='pre', value=0.0)\n",
        "#Pads sequences to the same length.\n",
        "#This function transforms a list (of length num_samples)\n",
        "#of sequences (lists of integers)\n",
        "#into a 2D Numpy array of shape (num_samples, num_timesteps).\n",
        "#num_timesteps is either the maxlen argument if provided,\n",
        "#or the length of the longest sequence in the list.\n",
        "\n",
        "\n",
        "tok.fit_on_texts(test_sentences)\n",
        "\n",
        "t_sequences = tok.texts_to_sequences(test_sentences)\n",
        "\n",
        "t_sequences_matrix = sequence.pad_sequences(t_sequences,maxlen=max_len)"
      ],
      "metadata": {
        "id": "sNtwX1FN7CLu"
      },
      "execution_count": null,
      "outputs": []
    },
    {
      "cell_type": "markdown",
      "source": [
        "CREATING MODEL"
      ],
      "metadata": {
        "id": "Bs7R0sQ_AckI"
      }
    },
    {
      "cell_type": "code",
      "source": [
        "def NN():\n",
        "    inputs = Input(name='inputs',shape=[max_len])\n",
        "\n",
        "    layer = Embedding(max_words,50,input_length=max_len)(inputs)\n",
        "    #def __init__(input_dim, output_dim, embeddings_initializer='uniform', embeddings_regularizer=None, activity_regularizer=None, embeddings_constraint=None, mask_zero=False, input_length=None, **kwargs)\n",
        "\n",
        "    #Turns positive integers (indexes) into dense vectors of fixed size.\n",
        "    #e.g. [[4], [20]] -> [[0.25, 0.1], [0.6, -0.2]]\n",
        "\n",
        "    layer = LSTM(64)(layer)\n",
        "    #def __init__(units, activation='tanh', recurrent_activation='sigmoid', use_bias=True, kernel_initializer='glorot_uniform', recurrent_initializer='orthogonal', bias_initializer='zeros', unit_forget_bias=True, kernel_regularizer=None, recurrent_regularizer=None, bias_regularizer=None, activity_regularizer=None, kernel_constraint=None, recurrent_constraint=None, bias_constraint=None, dropout=0.0, recurrent_dropout=0.0, \n",
        "    #return_sequences=False, return_state=False, go_backwards=False, stateful=False, time_major=False, unroll=False, **kwargs)\n",
        "    #LSTM(64) reduces the feature size to 64.Since,return_sequences=False,it outputs a feature vector of size 1*64\n",
        "\n",
        "    layer = Dense(256)(layer)\n",
        "    layer = Activation('relu')(layer)\n",
        "    #def __init__(units, activation=None, use_bias=True, kernel_initializer='glorot_uniform', bias_initializer='zeros', kernel_regularizer=None, bias_regularizer=None, activity_regularizer=None, kernel_constraint=None, bias_constraint=None, **kwargs)\n",
        "\n",
        "    #Dense implements the operation:\n",
        "    #output = activation(dot(input, kernel) + bias)\n",
        "    #where activation is the element-wise activation function\n",
        "    #passed as the activation argument\n",
        "\n",
        "    layer = Dense(128)(layer)\n",
        "    layer=Activation('relu')(layer)\n",
        "\n",
        "    layer = Dropout(0.1)(layer)\n",
        "    #def def __init__(rate, noise_shape=None, seed=None, **kwargs)\n",
        "    #Applies Dropout to the input.\n",
        "    #The Dropout layer randomly sets input units to 0 with a frequency of rate at each step during training time, which helps prevent overfitting. Inputs not set to 0 \n",
        "    #are scaled up by 1/(1 - rate) such that the sum over all inputs is unchanged.\n",
        "\n",
        "    layer = Dense(1,name='out_layer')(layer)\n",
        "    layer = Activation('sigmoid')(layer)\n",
        "\n",
        "    model = Model(inputs=inputs,outputs=layer)\n",
        "    #Model groups layers into an object with training and inference features.\n",
        "    return model"
      ],
      "metadata": {
        "id": "geTgMS6iocBa"
      },
      "execution_count": null,
      "outputs": []
    },
    {
      "cell_type": "code",
      "source": [
        "model=NN()\n",
        "\n",
        "model.summary()\n",
        "\n",
        "model.compile(loss='binary_crossentropy',optimizer=Adam(),metrics=['accuracy'])\n",
        "\n",
        "#Loss function says how good our model is in prediction.\n",
        "#Binary crossentropy is the negative average of the log of corrected predicted probabilities.It compares each of the predicted probabilities to actual\n",
        "#class output which can be either 0 or 1\n",
        "\n",
        "#Adam is an algorithm for gradient based stochastic objective functions.It combines the advantages of two SGD extensions-RMSpROP and AdaGrad.\n"
      ],
      "metadata": {
        "colab": {
          "base_uri": "https://localhost:8080/"
        },
        "id": "DxvNlb84oPhp",
        "outputId": "2a521655-2b60-41b8-85e9-b46c6404f2dd"
      },
      "execution_count": null,
      "outputs": [
        {
          "output_type": "stream",
          "name": "stdout",
          "text": [
            "Model: \"model\"\n",
            "_________________________________________________________________\n",
            " Layer (type)                Output Shape              Param #   \n",
            "=================================================================\n",
            " inputs (InputLayer)         [(None, 150)]             0         \n",
            "                                                                 \n",
            " embedding (Embedding)       (None, 150, 50)           50000     \n",
            "                                                                 \n",
            " lstm (LSTM)                 (None, 64)                29440     \n",
            "                                                                 \n",
            " dense (Dense)               (None, 256)               16640     \n",
            "                                                                 \n",
            " activation (Activation)     (None, 256)               0         \n",
            "                                                                 \n",
            " dense_1 (Dense)             (None, 128)               32896     \n",
            "                                                                 \n",
            " activation_1 (Activation)   (None, 128)               0         \n",
            "                                                                 \n",
            " dropout (Dropout)           (None, 128)               0         \n",
            "                                                                 \n",
            " out_layer (Dense)           (None, 1)                 129       \n",
            "                                                                 \n",
            " activation_2 (Activation)   (None, 1)                 0         \n",
            "                                                                 \n",
            "=================================================================\n",
            "Total params: 129,105\n",
            "Trainable params: 129,105\n",
            "Non-trainable params: 0\n",
            "_________________________________________________________________\n"
          ]
        }
      ]
    },
    {
      "cell_type": "markdown",
      "source": [
        "TRAINING THE MODEL"
      ],
      "metadata": {
        "id": "5mrYJEFtDlzm"
      }
    },
    {
      "cell_type": "code",
      "source": [
        "import numpy as np\n",
        "\n",
        "sequences_matrix=np.array(sequences_matrix) #Converting 2D matrix to 1D array\n",
        "train_labels=np.array(train_labels)         #Converting list to 1D array\n",
        "\n",
        "history=model.fit(sequences_matrix,train_labels,batch_size=128,epochs=10)\n"
      ],
      "metadata": {
        "colab": {
          "base_uri": "https://localhost:8080/"
        },
        "id": "JsCV5m0xvaVz",
        "outputId": "ac98ba46-879f-403c-c950-6ed9d7fc7ac8"
      },
      "execution_count": null,
      "outputs": [
        {
          "output_type": "stream",
          "name": "stdout",
          "text": [
            "Epoch 1/10\n",
            "345/345 [==============================] - 46s 134ms/step - loss: 0.0570 - accuracy: 0.9779\n",
            "Epoch 2/10\n",
            "345/345 [==============================] - 47s 136ms/step - loss: 0.0543 - accuracy: 0.9794\n",
            "Epoch 3/10\n",
            "345/345 [==============================] - 47s 136ms/step - loss: 0.0487 - accuracy: 0.9807\n",
            "Epoch 4/10\n",
            "345/345 [==============================] - 48s 138ms/step - loss: 0.0459 - accuracy: 0.9822\n",
            "Epoch 5/10\n",
            "345/345 [==============================] - 46s 135ms/step - loss: 0.0453 - accuracy: 0.9829\n",
            "Epoch 6/10\n",
            "345/345 [==============================] - 45s 131ms/step - loss: 0.0435 - accuracy: 0.9838\n",
            "Epoch 7/10\n",
            "345/345 [==============================] - 45s 130ms/step - loss: 0.0374 - accuracy: 0.9861\n",
            "Epoch 8/10\n",
            "345/345 [==============================] - 45s 129ms/step - loss: 0.0365 - accuracy: 0.9865\n",
            "Epoch 9/10\n",
            "345/345 [==============================] - 44s 128ms/step - loss: 0.0391 - accuracy: 0.9853\n",
            "Epoch 10/10\n",
            "345/345 [==============================] - 48s 140ms/step - loss: 0.0361 - accuracy: 0.9868\n"
          ]
        }
      ]
    },
    {
      "cell_type": "code",
      "source": [
        ""
      ],
      "metadata": {
        "id": "dtqp5KQuJqiU"
      },
      "execution_count": null,
      "outputs": []
    },
    {
      "cell_type": "code",
      "source": [
        "from sklearn.metrics import precision_score,recall_score,f1_score,confusion_matrix,accuracy_score\n",
        "\n",
        "test_matrix=np.array(t_sequences_matrix)\n",
        "test_labels=np.array(test_labels)\n",
        "test_acc = model.evaluate(test_matrix,test_labels)\n",
        "train_acc=model.evaluate(sequences_matrix,train_labels)\n",
        "\n",
        "# (method) evaluate: (x=None, y=None, batch_size=None, verbose=1, sample_weight=None, steps=None, callbacks=None, max_queue_size=10, workers=1, use_multiprocessing=False, return_dict=False, **kwargs) -> (Any | list)\n",
        "\n",
        "#Returns the loss value & metrics values for the model in test mode.\n",
        "#Computation is done in batches (see the batch_size arg.)\n",
        "#Args:\n",
        "#   x: Input data. It could be:\n",
        "#    A Numpy array (or array-like), or a list of arrays\n",
        "#    (in case the model has multiple inputs).\n",
        "#plot loss during training\n",
        "plt.subplot(211)\n",
        "plt.title('Loss')\n",
        "plt.plot(history.history['loss'],label='train')\n",
        "plt.legend()\n",
        "\n",
        "#plot accuracy during training\n",
        "plt.subplot(212)\n",
        "plt.title('Accuracy')\n",
        "plt.plot(history.history['accuracy'],label='train')\n",
        "plt.legend()\n",
        "plt.show()\n",
        "\n"
      ],
      "metadata": {
        "colab": {
          "base_uri": "https://localhost:8080/",
          "height": 317
        },
        "id": "iXNx5hMWC4xv",
        "outputId": "f77a6793-1b37-410a-bf79-592ec430717e"
      },
      "execution_count": null,
      "outputs": [
        {
          "output_type": "stream",
          "name": "stdout",
          "text": [
            "346/346 [==============================] - 7s 20ms/step - loss: 1.5828 - accuracy: 0.8482\n",
            "1380/1380 [==============================] - 28s 20ms/step - loss: 0.0263 - accuracy: 0.9911\n"
          ]
        },
        {
          "output_type": "display_data",
          "data": {
            "text/plain": [
              "<Figure size 432x288 with 2 Axes>"
            ],
            "image/png": "[encoded data removed]"
          },
          "metadata": {
            "needs_background": "light"
          }
        }
      ]
    },
    {
      "cell_type": "markdown",
      "source": [
        "EVALUATING ON TEST MATRIX"
      ],
      "metadata": {
        "id": "MNWx4eFrbckC"
      }
    },
    {
      "cell_type": "code",
      "source": [
        "y_probs=model.predict(test_matrix,verbose=0)\n",
        "y_probs=y_probs[:,0]\n",
        "\n",
        "accuracy=accuracy_score(test_labels,y_probs.round())\n",
        "print('accuracy: %f' % accuracy)\n",
        "#(y_true, y_pred, *, beta=1, labels=None, pos_label=1, average=None, warn_for=(\"precision\", \"recall\", \"f-score\"), sample_weight=None, zero_division=\"warn\") \n",
        "#-> (tuple[float64, float64, float64, None] | tuple[Any, Any, Any, ndarray | Any | None])\n",
        "precision=precision_score(test_labels,y_probs.round())\n",
        "print('Precision: %f' % precision)\n",
        "#Compute precision, recall, F-measure and support for each class.\n",
        "\n",
        "#The precision is the ratio tp / (tp + fp) where tp is the number of\n",
        "#true positives and fp the number of false positives. The precision is\n",
        "#intuitively the ability of the classifier not to label as positive a sample\n",
        "#that is negative\n",
        "recall=recall_score(test_labels,y_probs.round())\n",
        "print('Recall; %f'%recall)\n",
        "\n",
        "f1=f1_score(test_labels,y_probs.round())\n",
        "print('F1 Score; %f' % f1)\n",
        "\n",
        "cm=confusion_matrix(test_labels,y_probs.round())\n",
        "print(cm)"
      ],
      "metadata": {
        "colab": {
          "base_uri": "https://localhost:8080/"
        },
        "id": "wt8Zdd-PYiyl",
        "outputId": "15ca7832-77f3-435a-f7b3-fe57398ae16c"
      },
      "execution_count": null,
      "outputs": [
        {
          "output_type": "stream",
          "name": "stdout",
          "text": [
            "accuracy: 0.848202\n",
            "Precision: 0.122673\n",
            "Recall; 0.113475\n",
            "F1 Score; 0.117895\n",
            "[[9253  801]\n",
            " [ 875  112]]\n"
          ]
        }
      ]
    },
    {
      "cell_type": "markdown",
      "source": [
        ""
      ],
      "metadata": {
        "id": "wJpyQBHRuAjW"
      }
    }
  ]
}